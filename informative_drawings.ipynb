{
  "cells": [
    {
      "cell_type": "markdown",
      "metadata": {
        "id": "view-in-github",
        "colab_type": "text"
      },
      "source": [
        "<a href=\"https://colab.research.google.com/github/cedro3/informative-drawings/blob/main/informative_drawings.ipynb\" target=\"_parent\"><img src=\"https://colab.research.google.com/assets/colab-badge.svg\" alt=\"Open In Colab\"/></a>"
      ]
    },
    {
      "cell_type": "code",
      "execution_count": null,
      "metadata": {
        "id": "XN7HaXe50JRj"
      },
      "outputs": [],
      "source": [
        "#@title セットアップ\n",
        "\n",
        "# githubからコードを取得\n",
        "! git clone https://github.com/cedro3/informative-drawings.git\n",
        "%cd informative-drawings\n",
        "\n",
        "# checkpointsフォルダ作成\n",
        "import os\n",
        "os.makedirs('checkpoints', exist_ok=True)\n",
        "\n",
        "# 学習済みパラメータのダウンロード\n",
        "! pip install --upgrade gdown\n",
        "import gdown\n",
        "\n",
        "for i in range(10):\n",
        "  if os.path.isfile('model.zip'): \n",
        "    break\n",
        "  else:\n",
        "    gdown.download('https://drive.google.com/uc?id=11l5u5sb1PO5Z5YA3IoEHauVPm0k407C1', 'model.zip', quiet=False)\n",
        "! unzip model.zip -d checkpoints\n",
        "\n",
        "# 関数読み込み\n",
        "from function import *\n",
        "\n",
        "# downloadフォルダ作成\n",
        "import os\n",
        "os.makedirs('movie/download', exist_ok=True)"
      ]
    },
    {
      "cell_type": "code",
      "execution_count": null,
      "metadata": {
        "id": "Kfs_buOb45D6"
      },
      "outputs": [],
      "source": [
        "#@title サンプル画像の表示\n",
        "display_pic('examples/test')"
      ]
    },
    {
      "cell_type": "code",
      "execution_count": null,
      "metadata": {
        "id": "w0txJIXQ1_eu"
      },
      "outputs": [],
      "source": [
        "#@title スケッチ変換（anime_style）\n",
        "! python test.py --name anime_style --dataroot examples/test\n",
        "display_pic('results/anime_style')"
      ]
    },
    {
      "cell_type": "code",
      "execution_count": null,
      "metadata": {
        "id": "fZrNMAlR22aM"
      },
      "outputs": [],
      "source": [
        "#@title スケッチ変換（opensketch_style）\n",
        "! python test.py --name opensketch_style --dataroot examples/test\n",
        "display_pic('results/opensketch_style')"
      ]
    },
    {
      "cell_type": "code",
      "execution_count": null,
      "metadata": {
        "id": "HlmxrGdqwXJx"
      },
      "outputs": [],
      "source": [
        "#@title ビデオからスケッチ動画（opensketch_style）\n",
        "\n",
        "# --- ビデオを静止画にバラす ---\n",
        "video = '01.mp4' #@param {type:\"string\"}\n",
        "video_file = 'movie/video/'+video\n",
        "\n",
        "import os\n",
        "import shutil\n",
        "import cv2\n",
        "\n",
        "# 出力フォルダーリセット\n",
        "reset_folder('movie/images')\n",
        " \n",
        "def video_2_images(video_file= video_file,   # ビデオの指定\n",
        "                   image_dir='movie/images/', \n",
        "                   image_file='%s.jpg'):  \n",
        "\n",
        "    # Initial setting\n",
        "    i = 0\n",
        "    interval = 1\n",
        "    length = 30000000  # 最大フレーム数\n",
        "    \n",
        "    cap = cv2.VideoCapture(video_file)\n",
        "    fps = cap.get(cv2.CAP_PROP_FPS)  # fps取得\n",
        "\n",
        "    while(cap.isOpened()):\n",
        "        flag, frame = cap.read()  \n",
        "        if flag == False:  \n",
        "                break\n",
        "        if i == length*interval:\n",
        "                break\n",
        "        if i % interval == 0:    \n",
        "           cv2.imwrite(image_dir+image_file % str(int(i/interval)).zfill(6), frame)\n",
        "        i += 1 \n",
        "    cap.release()\n",
        "    return fps, i, interval\n",
        " \n",
        "fps, i, interval = video_2_images()\n",
        "\n",
        "print('fps = ', fps)\n",
        "print('frames = ', i)\n",
        "print('interval = ', interval)\n",
        "\n",
        "\n",
        "# --- 静止画をスケッチに変換 ---\n",
        "# 出力フォルダーリセット\n",
        "reset_folder('movie/sketch/opensketch_style')\n",
        "\n",
        "# スケッチ変換\n",
        "! python test.py --name opensketch_style\\\n",
        "                 --dataroot movie/images\\\n",
        "                 --results_dir movie/sketch\\\n",
        "                 --how_many 3000\\\n",
        "                 --size 512\n",
        "\n",
        "\n",
        "# --- 静止画とスケッチの連結 ---\n",
        "print('concating image & sketch...')\n",
        "import os\n",
        "import cv2\n",
        "import glob\n",
        "\n",
        "# 出力フォルダーリセット\n",
        "reset_folder('movie/frame')\n",
        "\n",
        "files1 = sorted(glob.glob('movie/images/*.jpg'))\n",
        "files2 = sorted(glob.glob('movie/sketch/opensketch_style/*.png'))\n",
        "cnt = 0\n",
        "for file1, file2 in zip(files1, files2):\n",
        "  img1 = cv2.imread(file1)\n",
        "  img2 = cv2.imread(file2)\n",
        "\n",
        "  # スケッチのサイズを静止画にリサイズ\n",
        "  height, width, channels = img1.shape[:3]\n",
        "  img2 = cv2.resize(img2, dsize=(width, height))\n",
        "\n",
        "  # スケッチと静止画を連結して保存\n",
        "  img = cv2.vconcat([img2])\n",
        "  name = os.path.basename(file2)\n",
        "  cv2.imwrite('movie/frame/'+str(cnt).zfill(6)+'.jpg', img)\n",
        "  cnt +=1\n",
        "\n",
        "\n",
        "# --- 動画の作成 ---\n",
        "# 動画の作成\n",
        "print('makeing movie...')\n",
        "! ffmpeg -y -r $fps -i movie/frame/%06d.jpg -vcodec libx264 -pix_fmt yuv420p -loglevel error out.mp4\n",
        "\n",
        "# 音声の抽出・付加\n",
        "print('preparation for sound...')\n",
        "! ffmpeg -y -i $video_file -loglevel error sound.mp3\n",
        "! ffmpeg -y -i out.mp4 -i sound.mp3 -loglevel error output.mp4\n",
        "\n",
        "# 動画の再生\n",
        "print('waiting for play movie...')\n",
        "display_mp4('output.mp4')"
      ]
    },
    {
      "cell_type": "code",
      "execution_count": null,
      "metadata": {
        "id": "QrhPA1tNwcCH"
      },
      "outputs": [],
      "source": [
        "#@title 動画のダウンロード\n",
        "\n",
        "import os\n",
        "import shutil\n",
        "\n",
        "download_name = 'movie/download/'+os.path.splitext(video)[0]+'_out.mp4'\n",
        "shutil.copy('output.mp4', download_name)\n",
        "\n",
        "from google.colab import files\n",
        "files.download(download_name)"
      ]
    }
  ],
  "metadata": {
    "accelerator": "GPU",
    "colab": {
      "collapsed_sections": [],
      "name": "informative_drawings",
      "provenance": [],
      "authorship_tag": "ABX9TyMhxnidnOTcKx0w69q6Vsnc",
      "include_colab_link": true
    },
    "kernelspec": {
      "display_name": "Python 3",
      "name": "python3"
    },
    "language_info": {
      "name": "python"
    }
  },
  "nbformat": 4,
  "nbformat_minor": 0
}
